{
 "cells": [
  {
   "cell_type": "markdown",
   "id": "d7e08f68",
   "metadata": {},
   "source": [
    "<div style=\"background:#5D6D7E;padding:20px;color:#ffffff;margin-top:10px;\">\n",
    "\n",
    "# NLP - Práctica 3 (Clasificación de Textos) \n",
    "\n",
    "## Profesora: Lisibonny Beato\n",
    "### Período 3-2023-2024</div>\n"
   ]
  },
  {
   "cell_type": "code",
   "execution_count": 17,
   "id": "cebb0323",
   "metadata": {},
   "outputs": [],
   "source": [
    "# Importando algunas librerias\n",
    "\n",
    "import pandas as pd\n",
    "import numpy as np\n",
    "import re # Para limpiar el texto\n",
    "import matplotlib.pyplot as plt\n",
    "from sklearn.naive_bayes import MultinomialNB\n",
    "from sklearn.linear_model import LogisticRegression\n",
    "from sklearn.tree import DecisionTreeClassifier\n",
    "from sklearn.ensemble import RandomForestClassifier\n",
    "from sklearn.svm import LinearSVC\n",
    "from sklearn.feature_extraction import _stop_words\n",
    "from sklearn.feature_extraction.text import CountVectorizer\n",
    "from sklearn.model_selection import train_test_split\n",
    "from sklearn.metrics import accuracy_score, confusion_matrix, ConfusionMatrixDisplay, classification_report\n",
    "\n",
    "from sklearn.model_selection import cross_validate\n",
    "from sklearn.naive_bayes import MultinomialNB\n",
    "from sklearn.linear_model import LogisticRegression\n",
    "from sklearn.tree import DecisionTreeClassifier\n",
    "from sklearn.metrics import make_scorer, accuracy_score, precision_score, recall_score, f1_score"
   ]
  },
  {
   "cell_type": "markdown",
   "id": "38cb051e",
   "metadata": {},
   "source": [
    "<div style=\"background:#ff6242;padding:20px;color:#ffffff;margin-top:10px;\">\n",
    "<b>El propósito de esta asignación es que el estudiante cree varios modelos de clasificación sobre un corpus textual, evaluando el desempeño de cada uno y seleccionando el que mejor de respuesta a la tarea<br />\n",
    "<br />\n",
    "    Para esta práctica estarán utilizando el dataset <i>reviews_rotten_tomatoes.csv</i> que encontrarán en la carpeta correspondiente de la PVA.\n",
    "<br />\n",
    "<br />\n",
    "Es importante que realicen un análisis detallado para cada modelo construido y que realicen una comparativa final, argumentando adecuadamente las razones de que se elija finalmente uno de los modelos sobre los otros.</b>\n",
    "</div>\n"
   ]
  },
  {
   "cell_type": "markdown",
   "id": "e8ebd3b5",
   "metadata": {},
   "source": [
    "## 1. Nivel Básico \n",
    "### Puntuación máxima de la tarea: 5 puntos\n",
    "#### 1.1 Limpieza y preparación de los datos, tomando en cuenta que el dataset continue una valoración sentimental que los usuarios hacen acerca de películas en el sitio RottenTomatoes. \n",
    "#### 1.2 Representar los documentos como vectores BOW\n",
    "#### 1.3 Construcción de un modelo de clasificación bayesiano\n",
    "#### 1.4 Construcción de un modelo basado en regresión logística\n",
    "#### 1.5 Construcción de un modelo basado en árboles decisorios \n",
    "#### Nota: Para los todos los modelos debe realizar un análisis de las métricas de desempeño, sobre los modelos construidos con una partición de los datos para training y otra para testing."
   ]
  },
  {
   "cell_type": "code",
   "execution_count": 18,
   "id": "5e4431ae",
   "metadata": {},
   "outputs": [],
   "source": [
    "df = pd.read_csv(\"reviews_rotten_tomatoes.csv\")\n"
   ]
  },
  {
   "cell_type": "code",
   "execution_count": 19,
   "id": "ac2907f8",
   "metadata": {},
   "outputs": [],
   "source": [
    "def limpiar_texto(texto):\n",
    "    texto = texto.lower()  # Convertir a minúsculas\n",
    "    texto = re.sub(r\"[^a-z\\s]\", \"\", texto)  # Eliminar caracteres no alfabéticos\n",
    "    return texto"
   ]
  },
  {
   "cell_type": "code",
   "execution_count": 20,
   "id": "1d49a928",
   "metadata": {},
   "outputs": [],
   "source": [
    "df['cleaned_reviews'] = df['reviews'].apply(limpiar_texto)"
   ]
  },
  {
   "cell_type": "code",
   "execution_count": 21,
   "id": "3ff665e8",
   "metadata": {},
   "outputs": [
    {
     "data": {
      "application/vnd.microsoft.datawrangler.viewer.v0+json": {
       "columns": [
        {
         "name": "index",
         "rawType": "int64",
         "type": "integer"
        },
        {
         "name": "reviews",
         "rawType": "object",
         "type": "string"
        },
        {
         "name": "cleaned_reviews",
         "rawType": "object",
         "type": "string"
        }
       ],
       "ref": "064810a2-6cd5-4a56-af6c-b791694dac81",
       "rows": [
        [
         "0",
         "simplistic , silly and tedious . ",
         "simplistic  silly and tedious  "
        ],
        [
         "1",
         "it's so laddish and juvenile , only teenage boys could possibly find it funny . ",
         "its so laddish and juvenile  only teenage boys could possibly find it funny  "
        ],
        [
         "2",
         "exploitative and largely devoid of the depth or sophistication that would make watching such a graphic treatment of the crimes bearable . ",
         "exploitative and largely devoid of the depth or sophistication that would make watching such a graphic treatment of the crimes bearable  "
        ],
        [
         "3",
         "[garbus] discards the potential for pathological study , exhuming instead , the skewed melodrama of the circumstantial situation . ",
         "garbus discards the potential for pathological study  exhuming instead  the skewed melodrama of the circumstantial situation  "
        ],
        [
         "4",
         "a visually flashy but narratively opaque and emotionally vapid exercise in style and mystification . ",
         "a visually flashy but narratively opaque and emotionally vapid exercise in style and mystification  "
        ]
       ],
       "shape": {
        "columns": 2,
        "rows": 5
       }
      },
      "text/html": [
       "<div>\n",
       "<style scoped>\n",
       "    .dataframe tbody tr th:only-of-type {\n",
       "        vertical-align: middle;\n",
       "    }\n",
       "\n",
       "    .dataframe tbody tr th {\n",
       "        vertical-align: top;\n",
       "    }\n",
       "\n",
       "    .dataframe thead th {\n",
       "        text-align: right;\n",
       "    }\n",
       "</style>\n",
       "<table border=\"1\" class=\"dataframe\">\n",
       "  <thead>\n",
       "    <tr style=\"text-align: right;\">\n",
       "      <th></th>\n",
       "      <th>reviews</th>\n",
       "      <th>cleaned_reviews</th>\n",
       "    </tr>\n",
       "  </thead>\n",
       "  <tbody>\n",
       "    <tr>\n",
       "      <th>0</th>\n",
       "      <td>simplistic , silly and tedious .</td>\n",
       "      <td>simplistic  silly and tedious</td>\n",
       "    </tr>\n",
       "    <tr>\n",
       "      <th>1</th>\n",
       "      <td>it's so laddish and juvenile , only teenage bo...</td>\n",
       "      <td>its so laddish and juvenile  only teenage boys...</td>\n",
       "    </tr>\n",
       "    <tr>\n",
       "      <th>2</th>\n",
       "      <td>exploitative and largely devoid of the depth o...</td>\n",
       "      <td>exploitative and largely devoid of the depth o...</td>\n",
       "    </tr>\n",
       "    <tr>\n",
       "      <th>3</th>\n",
       "      <td>[garbus] discards the potential for pathologic...</td>\n",
       "      <td>garbus discards the potential for pathological...</td>\n",
       "    </tr>\n",
       "    <tr>\n",
       "      <th>4</th>\n",
       "      <td>a visually flashy but narratively opaque and e...</td>\n",
       "      <td>a visually flashy but narratively opaque and e...</td>\n",
       "    </tr>\n",
       "  </tbody>\n",
       "</table>\n",
       "</div>"
      ],
      "text/plain": [
       "                                             reviews  \\\n",
       "0                  simplistic , silly and tedious .    \n",
       "1  it's so laddish and juvenile , only teenage bo...   \n",
       "2  exploitative and largely devoid of the depth o...   \n",
       "3  [garbus] discards the potential for pathologic...   \n",
       "4  a visually flashy but narratively opaque and e...   \n",
       "\n",
       "                                     cleaned_reviews  \n",
       "0                    simplistic  silly and tedious    \n",
       "1  its so laddish and juvenile  only teenage boys...  \n",
       "2  exploitative and largely devoid of the depth o...  \n",
       "3  garbus discards the potential for pathological...  \n",
       "4  a visually flashy but narratively opaque and e...  "
      ]
     },
     "execution_count": 21,
     "metadata": {},
     "output_type": "execute_result"
    }
   ],
   "source": [
    "df[['reviews', 'cleaned_reviews']].head()"
   ]
  },
  {
   "cell_type": "code",
   "execution_count": 24,
   "id": "5dbe675e",
   "metadata": {},
   "outputs": [],
   "source": [
    "# Vectorización con Bag of Words\n",
    "vectorizer = CountVectorizer(stop_words='english')\n",
    "X = vectorizer.fit_transform(df['cleaned_reviews'])\n",
    "\n",
    "# Etiquetas\n",
    "y = df['labels']\n"
   ]
  },
  {
   "cell_type": "code",
   "execution_count": 25,
   "id": "7219dc03",
   "metadata": {},
   "outputs": [],
   "source": [
    "# Separar datos en 80% entrenamiento y 20% prueba\n",
    "X_train, X_test, y_train, y_test = train_test_split(X, y, test_size=0.2, random_state=42)\n"
   ]
  },
  {
   "cell_type": "code",
   "execution_count": 26,
   "id": "fae23ff8",
   "metadata": {},
   "outputs": [],
   "source": [
    "# Definir las métricas a evaluar\n",
    "metricas = {\n",
    "    'accuracy': make_scorer(accuracy_score),\n",
    "    'precision': make_scorer(precision_score),\n",
    "    'recall': make_scorer(recall_score),\n",
    "    'f1': make_scorer(f1_score)\n",
    "}\n"
   ]
  },
  {
   "cell_type": "code",
   "execution_count": 27,
   "id": "e0eb261f",
   "metadata": {},
   "outputs": [],
   "source": [
    "# Definir los modelos\n",
    "modelos = {\n",
    "    \"Naive Bayes\": MultinomialNB(),\n",
    "    \"Regresión Logística\": LogisticRegression(max_iter=1000),\n",
    "    \"Árbol Decisorio\": DecisionTreeClassifier(random_state=42)\n",
    "}\n",
    "\n",
    "# Lista para guardar resultados\n",
    "resultados_cv = []\n",
    "\n",
    "# Validación cruzada (5-fold)\n",
    "for nombre, modelo in modelos.items():\n",
    "    cv_resultado = cross_validate(modelo, X, y, cv=5, scoring=metricas)\n",
    "    resultados_cv.append({\n",
    "        \"Modelo\": nombre,\n",
    "        \"Accuracy\": cv_resultado['test_accuracy'].mean(),\n",
    "        \"Precision\": cv_resultado['test_precision'].mean(),\n",
    "        \"Recall\": cv_resultado['test_recall'].mean(),\n",
    "        \"F1-score\": cv_resultado['test_f1'].mean()\n",
    "    })\n"
   ]
  },
  {
   "cell_type": "code",
   "execution_count": 28,
   "id": "fcb34a35",
   "metadata": {},
   "outputs": [
    {
     "data": {
      "application/vnd.microsoft.datawrangler.viewer.v0+json": {
       "columns": [
        {
         "name": "index",
         "rawType": "int64",
         "type": "integer"
        },
        {
         "name": "Modelo",
         "rawType": "object",
         "type": "string"
        },
        {
         "name": "Accuracy",
         "rawType": "float64",
         "type": "float"
        },
        {
         "name": "Precision",
         "rawType": "float64",
         "type": "float"
        },
        {
         "name": "Recall",
         "rawType": "float64",
         "type": "float"
        },
        {
         "name": "F1-score",
         "rawType": "float64",
         "type": "float"
        }
       ],
       "ref": "62384aae-6343-4746-8ff0-eb3557aa26b6",
       "rows": [
        [
         "0",
         "Naive Bayes",
         "0.7645840095207184",
         "0.7615639050144452",
         "0.7705838290449807",
         "0.7659883184253123"
        ],
        [
         "1",
         "Regresión Logística",
         "0.7499525459389614",
         "0.7520794382049798",
         "0.7458215156731627",
         "0.7488361842664116"
        ],
        [
         "2",
         "Árbol Decisorio",
         "0.657192258874877",
         "0.6677953042123768",
         "0.6252040139895307",
         "0.6457269954178918"
        ]
       ],
       "shape": {
        "columns": 5,
        "rows": 3
       }
      },
      "text/html": [
       "<div>\n",
       "<style scoped>\n",
       "    .dataframe tbody tr th:only-of-type {\n",
       "        vertical-align: middle;\n",
       "    }\n",
       "\n",
       "    .dataframe tbody tr th {\n",
       "        vertical-align: top;\n",
       "    }\n",
       "\n",
       "    .dataframe thead th {\n",
       "        text-align: right;\n",
       "    }\n",
       "</style>\n",
       "<table border=\"1\" class=\"dataframe\">\n",
       "  <thead>\n",
       "    <tr style=\"text-align: right;\">\n",
       "      <th></th>\n",
       "      <th>Modelo</th>\n",
       "      <th>Accuracy</th>\n",
       "      <th>Precision</th>\n",
       "      <th>Recall</th>\n",
       "      <th>F1-score</th>\n",
       "    </tr>\n",
       "  </thead>\n",
       "  <tbody>\n",
       "    <tr>\n",
       "      <th>0</th>\n",
       "      <td>Naive Bayes</td>\n",
       "      <td>0.764584</td>\n",
       "      <td>0.761564</td>\n",
       "      <td>0.770584</td>\n",
       "      <td>0.765988</td>\n",
       "    </tr>\n",
       "    <tr>\n",
       "      <th>1</th>\n",
       "      <td>Regresión Logística</td>\n",
       "      <td>0.749953</td>\n",
       "      <td>0.752079</td>\n",
       "      <td>0.745822</td>\n",
       "      <td>0.748836</td>\n",
       "    </tr>\n",
       "    <tr>\n",
       "      <th>2</th>\n",
       "      <td>Árbol Decisorio</td>\n",
       "      <td>0.657192</td>\n",
       "      <td>0.667795</td>\n",
       "      <td>0.625204</td>\n",
       "      <td>0.645727</td>\n",
       "    </tr>\n",
       "  </tbody>\n",
       "</table>\n",
       "</div>"
      ],
      "text/plain": [
       "                Modelo  Accuracy  Precision    Recall  F1-score\n",
       "0          Naive Bayes  0.764584   0.761564  0.770584  0.765988\n",
       "1  Regresión Logística  0.749953   0.752079  0.745822  0.748836\n",
       "2      Árbol Decisorio  0.657192   0.667795  0.625204  0.645727"
      ]
     },
     "execution_count": 28,
     "metadata": {},
     "output_type": "execute_result"
    }
   ],
   "source": [
    "# Crear DataFrame con resultados\n",
    "df_cv = pd.DataFrame(resultados_cv)\n",
    "df_cv\n"
   ]
  },
  {
   "cell_type": "markdown",
   "id": "1f70b865",
   "metadata": {},
   "source": [
    "<div style=\"background:#FFFFE0;padding:20px;color:#000000;margin-top:10px;\">\n",
    "Utilice esta celda para colocar comentarios en el notebook, cuando lo estime necesario. Copiela varias veces donde considere.\n",
    "</div>"
   ]
  },
  {
   "cell_type": "markdown",
   "id": "36d2ba20",
   "metadata": {},
   "source": [
    "## 2. Nivel Intermedio \n",
    "### Puntuación máxima de la tarea: 3 puntos\n",
    "#### 2.1 Investigue acerca del concepto de  validación cruzada en clasificación y escriba sobre el tema en no más de dos párrafos (adicionalmente, puede colocar una imagen, si así lo desea)\n",
    "#### 2.2 Investigue las funciones de la librería Scikit Learn que ayudan a realizar validación cruzada y descríbalas en detalle.\n",
    "#### 2.3 Construya los mismos modelos del punto anterior, pero ahora con un esquema de prueba basado en validación cruzada y realice un análisis de las métricas de desempeño de cada uno"
   ]
  },
  {
   "cell_type": "code",
   "execution_count": null,
   "id": "44dc13eb",
   "metadata": {},
   "outputs": [],
   "source": []
  },
  {
   "cell_type": "markdown",
   "id": "9d803e21",
   "metadata": {},
   "source": [
    "## 3. Nivel Avanzado\n",
    "### Puntuación máxima de la tarea: 2 puntos\n",
    "#### Investigue sobre el roc auc score y grafíquelo para el mejor modelo de los 6 que ha construido. Interprete los resultados que se visualizan."
   ]
  },
  {
   "cell_type": "code",
   "execution_count": null,
   "id": "d8e55c65",
   "metadata": {},
   "outputs": [],
   "source": []
  }
 ],
 "metadata": {
  "kernelspec": {
   "display_name": "base",
   "language": "python",
   "name": "python3"
  },
  "language_info": {
   "codemirror_mode": {
    "name": "ipython",
    "version": 3
   },
   "file_extension": ".py",
   "mimetype": "text/x-python",
   "name": "python",
   "nbconvert_exporter": "python",
   "pygments_lexer": "ipython3",
   "version": "3.12.7"
  }
 },
 "nbformat": 4,
 "nbformat_minor": 5
}
