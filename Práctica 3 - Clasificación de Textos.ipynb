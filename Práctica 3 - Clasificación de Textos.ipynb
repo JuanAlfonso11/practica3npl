{
 "cells": [
  {
   "cell_type": "markdown",
   "id": "d7e08f68",
   "metadata": {},
   "source": [
    "<div style=\"background:#5D6D7E;padding:20px;color:#ffffff;margin-top:10px;\">\n",
    "\n",
    "# NLP - Práctica 3 (Clasificación de Textos) \n",
    "\n",
    "## Profesora: Lisibonny Beato\n",
    "### Período 3-2023-2024</div>\n"
   ]
  },
  {
   "cell_type": "code",
   "execution_count": 2,
   "id": "cebb0323",
   "metadata": {},
   "outputs": [],
   "source": [
    "# Importando algunas librerias\n",
    "\n",
    "import pandas as pd\n",
    "import numpy as np\n",
    "import re # Para limpiar el texto\n",
    "import matplotlib.pyplot as plt\n",
    "from sklearn.naive_bayes import MultinomialNB\n",
    "from sklearn.linear_model import LogisticRegression\n",
    "from sklearn.tree import DecisionTreeClassifier\n",
    "from sklearn.ensemble import RandomForestClassifier\n",
    "from sklearn.svm import LinearSVC\n",
    "from sklearn.feature_extraction import _stop_words\n",
    "from sklearn.feature_extraction.text import CountVectorizer\n",
    "from sklearn.model_selection import train_test_split\n",
    "from sklearn.metrics import accuracy_score, confusion_matrix, ConfusionMatrixDisplay, classification_report\n",
    "\n",
    "from sklearn.model_selection import cross_validate\n",
    "from sklearn.naive_bayes import MultinomialNB\n",
    "from sklearn.linear_model import LogisticRegression\n",
    "from sklearn.tree import DecisionTreeClassifier\n",
    "from sklearn.metrics import make_scorer, accuracy_score, precision_score, recall_score, f1_score"
   ]
  },
  {
   "cell_type": "markdown",
   "id": "38cb051e",
   "metadata": {},
   "source": [
    "<div style=\"background:#ff6242;padding:20px;color:#ffffff;margin-top:10px;\">\n",
    "<b>El propósito de esta asignación es que el estudiante cree varios modelos de clasificación sobre un corpus textual, evaluando el desempeño de cada uno y seleccionando el que mejor de respuesta a la tarea<br />\n",
    "<br />\n",
    "    Para esta práctica estarán utilizando el dataset <i>reviews_rotten_tomatoes.csv</i> que encontrarán en la carpeta correspondiente de la PVA.\n",
    "<br />\n",
    "<br />\n",
    "Es importante que realicen un análisis detallado para cada modelo construido y que realicen una comparativa final, argumentando adecuadamente las razones de que se elija finalmente uno de los modelos sobre los otros.</b>\n",
    "</div>\n"
   ]
  },
  {
   "cell_type": "markdown",
   "id": "e8ebd3b5",
   "metadata": {},
   "source": [
    "## 1. Nivel Básico \n",
    "### Puntuación máxima de la tarea: 5 puntos\n",
    "#### 1.1 Limpieza y preparación de los datos, tomando en cuenta que el dataset continue una valoración sentimental que los usuarios hacen acerca de películas en el sitio RottenTomatoes. \n",
    "#### 1.2 Representar los documentos como vectores BOW\n",
    "#### 1.3 Construcción de un modelo de clasificación bayesiano\n",
    "#### 1.4 Construcción de un modelo basado en regresión logística\n",
    "#### 1.5 Construcción de un modelo basado en árboles decisorios \n",
    "#### Nota: Para los todos los modelos debe realizar un análisis de las métricas de desempeño, sobre los modelos construidos con una partición de los datos para training y otra para testing."
   ]
  },
  {
   "cell_type": "code",
   "execution_count": 3,
   "id": "5e4431ae",
   "metadata": {},
   "outputs": [],
   "source": [
    "df = pd.read_csv(\"reviews_rotten_tomatoes.csv\")\n"
   ]
  },
  {
   "cell_type": "code",
   "execution_count": 4,
   "id": "ac2907f8",
   "metadata": {},
   "outputs": [],
   "source": [
    "def limpiar_texto(texto):\n",
    "    texto = texto.lower()  # Convertir a minúsculas\n",
    "    texto = re.sub(r\"[^a-z\\s]\", \"\", texto)  # Eliminar caracteres no alfabéticos\n",
    "    return texto"
   ]
  },
  {
   "cell_type": "code",
   "execution_count": 5,
   "id": "1d49a928",
   "metadata": {},
   "outputs": [],
   "source": [
    "df['cleaned_reviews'] = df['reviews'].apply(limpiar_texto)"
   ]
  },
  {
   "cell_type": "code",
   "execution_count": 6,
   "id": "3ff665e8",
   "metadata": {},
   "outputs": [
    {
     "data": {
      "text/html": [
       "<div>\n",
       "<style scoped>\n",
       "    .dataframe tbody tr th:only-of-type {\n",
       "        vertical-align: middle;\n",
       "    }\n",
       "\n",
       "    .dataframe tbody tr th {\n",
       "        vertical-align: top;\n",
       "    }\n",
       "\n",
       "    .dataframe thead th {\n",
       "        text-align: right;\n",
       "    }\n",
       "</style>\n",
       "<table border=\"1\" class=\"dataframe\">\n",
       "  <thead>\n",
       "    <tr style=\"text-align: right;\">\n",
       "      <th></th>\n",
       "      <th>reviews</th>\n",
       "      <th>cleaned_reviews</th>\n",
       "    </tr>\n",
       "  </thead>\n",
       "  <tbody>\n",
       "    <tr>\n",
       "      <th>0</th>\n",
       "      <td>simplistic , silly and tedious .</td>\n",
       "      <td>simplistic  silly and tedious</td>\n",
       "    </tr>\n",
       "    <tr>\n",
       "      <th>1</th>\n",
       "      <td>it's so laddish and juvenile , only teenage bo...</td>\n",
       "      <td>its so laddish and juvenile  only teenage boys...</td>\n",
       "    </tr>\n",
       "    <tr>\n",
       "      <th>2</th>\n",
       "      <td>exploitative and largely devoid of the depth o...</td>\n",
       "      <td>exploitative and largely devoid of the depth o...</td>\n",
       "    </tr>\n",
       "    <tr>\n",
       "      <th>3</th>\n",
       "      <td>[garbus] discards the potential for pathologic...</td>\n",
       "      <td>garbus discards the potential for pathological...</td>\n",
       "    </tr>\n",
       "    <tr>\n",
       "      <th>4</th>\n",
       "      <td>a visually flashy but narratively opaque and e...</td>\n",
       "      <td>a visually flashy but narratively opaque and e...</td>\n",
       "    </tr>\n",
       "  </tbody>\n",
       "</table>\n",
       "</div>"
      ],
      "text/plain": [
       "                                             reviews  \\\n",
       "0                  simplistic , silly and tedious .    \n",
       "1  it's so laddish and juvenile , only teenage bo...   \n",
       "2  exploitative and largely devoid of the depth o...   \n",
       "3  [garbus] discards the potential for pathologic...   \n",
       "4  a visually flashy but narratively opaque and e...   \n",
       "\n",
       "                                     cleaned_reviews  \n",
       "0                    simplistic  silly and tedious    \n",
       "1  its so laddish and juvenile  only teenage boys...  \n",
       "2  exploitative and largely devoid of the depth o...  \n",
       "3  garbus discards the potential for pathological...  \n",
       "4  a visually flashy but narratively opaque and e...  "
      ]
     },
     "execution_count": 6,
     "metadata": {},
     "output_type": "execute_result"
    }
   ],
   "source": [
    "df[['reviews', 'cleaned_reviews']].head()"
   ]
  },
  {
   "cell_type": "code",
   "execution_count": 7,
   "id": "5dbe675e",
   "metadata": {},
   "outputs": [],
   "source": [
    "# Vectorización con Bag of Words\n",
    "vectorizer = CountVectorizer(stop_words='english')\n",
    "X = vectorizer.fit_transform(df['cleaned_reviews'])\n",
    "\n",
    "# Etiquetas\n",
    "y = df['labels']\n"
   ]
  },
  {
   "cell_type": "code",
   "execution_count": 8,
   "id": "7219dc03",
   "metadata": {},
   "outputs": [],
   "source": [
    "# Separar datos en 80% entrenamiento y 20% prueba\n",
    "X_train, X_test, y_train, y_test = train_test_split(X, y, test_size=0.2, random_state=42)\n"
   ]
  },
  {
   "cell_type": "code",
   "execution_count": 9,
   "id": "fae23ff8",
   "metadata": {},
   "outputs": [],
   "source": [
    "# Definir las métricas a evaluar\n",
    "metricas = {\n",
    "    'accuracy': make_scorer(accuracy_score),\n",
    "    'precision': make_scorer(precision_score),\n",
    "    'recall': make_scorer(recall_score),\n",
    "    'f1': make_scorer(f1_score)\n",
    "}\n"
   ]
  },
  {
   "cell_type": "code",
   "execution_count": 10,
   "id": "e0eb261f",
   "metadata": {},
   "outputs": [],
   "source": [
    "# Definir los modelos\n",
    "modelos = {\n",
    "    \"Naive Bayes\": MultinomialNB(),\n",
    "    \"Regresión Logística\": LogisticRegression(max_iter=1000),\n",
    "    \"Árbol Decisorio\": DecisionTreeClassifier(random_state=42)\n",
    "}\n",
    "\n",
    "# Lista para guardar resultados\n",
    "resultados_cv = []\n",
    "\n",
    "# Validación cruzada (5-fold)\n",
    "for nombre, modelo in modelos.items():\n",
    "    cv_resultado = cross_validate(modelo, X, y, cv=5, scoring=metricas)\n",
    "    resultados_cv.append({\n",
    "        \"Modelo\": nombre,\n",
    "        \"Accuracy\": cv_resultado['test_accuracy'].mean(),\n",
    "        \"Precision\": cv_resultado['test_precision'].mean(),\n",
    "        \"Recall\": cv_resultado['test_recall'].mean(),\n",
    "        \"F1-score\": cv_resultado['test_f1'].mean()\n",
    "    })\n"
   ]
  },
  {
   "cell_type": "code",
   "execution_count": 11,
   "id": "fcb34a35",
   "metadata": {},
   "outputs": [
    {
     "data": {
      "text/html": [
       "<div>\n",
       "<style scoped>\n",
       "    .dataframe tbody tr th:only-of-type {\n",
       "        vertical-align: middle;\n",
       "    }\n",
       "\n",
       "    .dataframe tbody tr th {\n",
       "        vertical-align: top;\n",
       "    }\n",
       "\n",
       "    .dataframe thead th {\n",
       "        text-align: right;\n",
       "    }\n",
       "</style>\n",
       "<table border=\"1\" class=\"dataframe\">\n",
       "  <thead>\n",
       "    <tr style=\"text-align: right;\">\n",
       "      <th></th>\n",
       "      <th>Modelo</th>\n",
       "      <th>Accuracy</th>\n",
       "      <th>Precision</th>\n",
       "      <th>Recall</th>\n",
       "      <th>F1-score</th>\n",
       "    </tr>\n",
       "  </thead>\n",
       "  <tbody>\n",
       "    <tr>\n",
       "      <th>0</th>\n",
       "      <td>Naive Bayes</td>\n",
       "      <td>0.764584</td>\n",
       "      <td>0.761564</td>\n",
       "      <td>0.770584</td>\n",
       "      <td>0.765988</td>\n",
       "    </tr>\n",
       "    <tr>\n",
       "      <th>1</th>\n",
       "      <td>Regresión Logística</td>\n",
       "      <td>0.749953</td>\n",
       "      <td>0.752079</td>\n",
       "      <td>0.745822</td>\n",
       "      <td>0.748836</td>\n",
       "    </tr>\n",
       "    <tr>\n",
       "      <th>2</th>\n",
       "      <td>Árbol Decisorio</td>\n",
       "      <td>0.657192</td>\n",
       "      <td>0.667795</td>\n",
       "      <td>0.625204</td>\n",
       "      <td>0.645727</td>\n",
       "    </tr>\n",
       "  </tbody>\n",
       "</table>\n",
       "</div>"
      ],
      "text/plain": [
       "                Modelo  Accuracy  Precision    Recall  F1-score\n",
       "0          Naive Bayes  0.764584   0.761564  0.770584  0.765988\n",
       "1  Regresión Logística  0.749953   0.752079  0.745822  0.748836\n",
       "2      Árbol Decisorio  0.657192   0.667795  0.625204  0.645727"
      ]
     },
     "execution_count": 11,
     "metadata": {},
     "output_type": "execute_result"
    }
   ],
   "source": [
    "# Crear DataFrame con resultados\n",
    "df_cv = pd.DataFrame(resultados_cv)\n",
    "df_cv\n"
   ]
  },
  {
   "cell_type": "markdown",
   "id": "48fedbc3",
   "metadata": {},
   "source": [
    "<div style=\"background:#FFFFE0;padding:20px;color:#000000;margin-top:10px;\">\n",
    " Comparación de Modelos (Nivel Básico)\n",
    "\n",
    "Se entrenaron tres modelos clásicos de clasificación sobre el corpus de reseñas de películas usando la representación Bag of Words. El modelo de **Naive Bayes** obtuvo el mejor rendimiento, alcanzando una precisión y recall cercanos al 76%. Regresión Logística le siguió con buenos resultados, mientras que el Árbol Decisorio mostró menor capacidad de generalización.\n",
    "\n",
    "Se concluye que **Naive Bayes es el modelo más adecuado para este escenario**, debido a su eficiencia computacional y excelente rendimiento con texto vectorizado.</div>"
   ]
  },
  {
   "cell_type": "markdown",
   "id": "1f70b865",
   "metadata": {},
   "source": [
    "<div style=\"background:#FFFFE0;padding:20px;color:#000000;margin-top:10px;\">\n",
    "Utilice esta celda para colocar comentarios en el notebook, cuando lo estime necesario. Copiela varias veces donde considere.\n",
    "</div>"
   ]
  },
  {
   "cell_type": "markdown",
   "id": "36d2ba20",
   "metadata": {},
   "source": [
    "## 2. Nivel Intermedio \n",
    "### Puntuación máxima de la tarea: 3 puntos\n",
    "#### 2.1 Investigue acerca del concepto de  validación cruzada en clasificación y escriba sobre el tema en no más de dos párrafos (adicionalmente, puede colocar una imagen, si así lo desea)\n",
    "#### 2.2 Investigue las funciones de la librería Scikit Learn que ayudan a realizar validación cruzada y descríbalas en detalle.\n",
    "#### 2.3 Construya los mismos modelos del punto anterior, pero ahora con un esquema de prueba basado en validación cruzada y realice un análisis de las métricas de desempeño de cada uno"
   ]
  },
  {
   "cell_type": "markdown",
   "id": "528eb835",
   "metadata": {},
   "source": [
    "<div style=\"background:#FFFFE0;padding:20px;color:#000000;margin-top:10px;\">\n",
    "La validacion cruzada es una tecnica usada en machine learning para evaluar el rendimiento de un modelo. En lugar de separar los datos en un conjunto de entrenamiento y uno de prueba, la validacion cruzada divide los datos en multiples subconjuntos o folds. El modelo se entrena en algunos de esos folds y se prueba en los restantes, repitiendo este proceso varias veces. Esto permite evaluar como se comporta el modelo con diferentes divisiones de los datos.\n",
    "\n",
    "Esta tecnica es util porque proporciona una medida mas confiable del rendimiento del modelo, reduciendo el riesgo de sobreajuste. Al utilizar distintos subconjuntos para entrenamiento y prueba, se obtiene una vision mas precisa de como el modelo generalizara a datos no vistos, lo cual es especialmente importante cuando se tienen conjuntos de datos limitados.</div>"
   ]
  },
  {
   "cell_type": "markdown",
   "id": "bc635abe",
   "metadata": {},
   "source": [
    "<div style=\"background:#FFFFE0;padding:20px;color:#000000;margin-top:10px;\">\n",
    "En Scikit-learn hay varias funciones para hacer validacion cruzada de forma sencilla:\n",
    "\n",
    "cross_val_score(): Realiza validacion cruzada y devuelve una sola medida de evaluacion, como accuracy. Esta funcion es simple y rapida para obtener una idea general del rendimiento del modelo.\n",
    "\n",
    "cross_validate(): Es similar a cross_val_score(), pero te permite obtener multiples medidas de evaluacion, como precision, recall y f1-score, lo cual es util cuando se quiere evaluar el modelo con varias metricas.\n",
    "\n",
    "KFold() / StratifiedKFold(): Estas clases permiten dividir el dataset en folds de manera personalizada. StratifiedKFold es especialmente util en problemas de clasificacion desbalanceada, ya que asegura que las clases esten bien distribuidas en cada fold.</div>"
   ]
  },
  {
   "cell_type": "code",
   "execution_count": 12,
   "id": "44dc13eb",
   "metadata": {},
   "outputs": [],
   "source": [
    "df = pd.read_csv(\"reviews_rotten_tomatoes.csv\")\n",
    "\n",
    "def limpiar_texto(texto):\n",
    "    texto = texto.lower()\n",
    "    texto = re.sub(r\"[^a-z\\s]\", \"\", texto)  # Eliminar caracteres no alfabéticos\n",
    "    return texto\n",
    "\n",
    "df['cleaned_reviews'] = df['reviews'].apply(limpiar_texto)\n"
   ]
  },
  {
   "cell_type": "code",
   "execution_count": 14,
   "id": "9a09a988",
   "metadata": {},
   "outputs": [],
   "source": [
    "vectorizer = CountVectorizer(stop_words='english')\n",
    "X = vectorizer.fit_transform(df['cleaned_reviews'])\n",
    "y = df['labels']\n",
    "X_train, X_test, y_train, y_test = train_test_split(X, y, test_size=0.2, random_state=42)\n"
   ]
  },
  {
   "cell_type": "code",
   "execution_count": 15,
   "id": "81e60a92",
   "metadata": {},
   "outputs": [],
   "source": [
    "from sklearn.metrics import make_scorer, accuracy_score, precision_score, recall_score, f1_score\n",
    "\n",
    "metricas = {\n",
    "    'accuracy': make_scorer(accuracy_score),\n",
    "    'precision': make_scorer(precision_score),\n",
    "    'recall': make_scorer(recall_score),\n",
    "    'f1': make_scorer(f1_score)\n",
    "}\n"
   ]
  },
  {
   "cell_type": "code",
   "execution_count": 18,
   "id": "e46e6fa2",
   "metadata": {},
   "outputs": [],
   "source": [
    "modelos = {\n",
    "    \"Naive Bayes\": MultinomialNB(),\n",
    "    \"Regresión Logística\": LogisticRegression(max_iter=1000),\n",
    "    \"Árbol Decisorio\": DecisionTreeClassifier(random_state=42)\n",
    "}\n"
   ]
  },
  {
   "cell_type": "code",
   "execution_count": 19,
   "id": "23748bce",
   "metadata": {},
   "outputs": [
    {
     "data": {
      "text/html": [
       "<div>\n",
       "<style scoped>\n",
       "    .dataframe tbody tr th:only-of-type {\n",
       "        vertical-align: middle;\n",
       "    }\n",
       "\n",
       "    .dataframe tbody tr th {\n",
       "        vertical-align: top;\n",
       "    }\n",
       "\n",
       "    .dataframe thead th {\n",
       "        text-align: right;\n",
       "    }\n",
       "</style>\n",
       "<table border=\"1\" class=\"dataframe\">\n",
       "  <thead>\n",
       "    <tr style=\"text-align: right;\">\n",
       "      <th></th>\n",
       "      <th>Modelo</th>\n",
       "      <th>Accuracy</th>\n",
       "      <th>Precision</th>\n",
       "      <th>Recall</th>\n",
       "      <th>F1-score</th>\n",
       "    </tr>\n",
       "  </thead>\n",
       "  <tbody>\n",
       "    <tr>\n",
       "      <th>0</th>\n",
       "      <td>Naive Bayes</td>\n",
       "      <td>0.764584</td>\n",
       "      <td>0.761564</td>\n",
       "      <td>0.770584</td>\n",
       "      <td>0.765988</td>\n",
       "    </tr>\n",
       "    <tr>\n",
       "      <th>1</th>\n",
       "      <td>Regresión Logística</td>\n",
       "      <td>0.749953</td>\n",
       "      <td>0.752079</td>\n",
       "      <td>0.745822</td>\n",
       "      <td>0.748836</td>\n",
       "    </tr>\n",
       "    <tr>\n",
       "      <th>2</th>\n",
       "      <td>Árbol Decisorio</td>\n",
       "      <td>0.657192</td>\n",
       "      <td>0.667795</td>\n",
       "      <td>0.625204</td>\n",
       "      <td>0.645727</td>\n",
       "    </tr>\n",
       "  </tbody>\n",
       "</table>\n",
       "</div>"
      ],
      "text/plain": [
       "                Modelo  Accuracy  Precision    Recall  F1-score\n",
       "0          Naive Bayes  0.764584   0.761564  0.770584  0.765988\n",
       "1  Regresión Logística  0.749953   0.752079  0.745822  0.748836\n",
       "2      Árbol Decisorio  0.657192   0.667795  0.625204  0.645727"
      ]
     },
     "execution_count": 19,
     "metadata": {},
     "output_type": "execute_result"
    }
   ],
   "source": [
    "from sklearn.model_selection import cross_validate\n",
    "\n",
    "resultados_cv = []\n",
    "\n",
    "for nombre, modelo in modelos.items():\n",
    "    cv_resultado = cross_validate(modelo, X, y, cv=5, scoring=metricas)\n",
    "    resultados_cv.append({\n",
    "        \"Modelo\": nombre,\n",
    "        \"Accuracy\": cv_resultado['test_accuracy'].mean(),\n",
    "        \"Precision\": cv_resultado['test_precision'].mean(),\n",
    "        \"Recall\": cv_resultado['test_recall'].mean(),\n",
    "        \"F1-score\": cv_resultado['test_f1'].mean()\n",
    "    })\n",
    "\n",
    "df_cv = pd.DataFrame(resultados_cv)\n",
    "df_cv\n"
   ]
  },
  {
   "cell_type": "markdown",
   "id": "9d803e21",
   "metadata": {},
   "source": [
    "## 3. Nivel Avanzado\n",
    "### Puntuación máxima de la tarea: 2 puntos\n",
    "#### Investigue sobre el roc auc score y grafíquelo para el mejor modelo de los 6 que ha construido. Interprete los resultados que se visualizan."
   ]
  },
  {
   "cell_type": "code",
   "execution_count": 21,
   "id": "d8e55c65",
   "metadata": {},
   "outputs": [
    {
     "data": {
      "image/png": "[encoded data removed]",
      "text/plain": [
       "<Figure size 800x600 with 1 Axes>"
      ]
     },
     "metadata": {},
     "output_type": "display_data"
    },
    {
     "name": "stdout",
     "output_type": "stream",
     "text": [
      "AUC: 0.8408623336340186\n"
     ]
    }
   ],
   "source": [
    "from sklearn.metrics import roc_curve, auc\n",
    "import matplotlib.pyplot as plt\n",
    "\n",
    "# Entrenamos el mejor modelo (Naive Bayes en este caso)\n",
    "modelo = MultinomialNB()\n",
    "modelo.fit(X_train, y_train)\n",
    "\n",
    "# Obtener las probabilidades de predicción\n",
    "y_prob = modelo.predict_proba(X_test)[:, 1]\n",
    "\n",
    "# Calcular las métricas para ROC\n",
    "fpr, tpr, thresholds = roc_curve(y_test, y_prob)\n",
    "roc_auc = auc(fpr, tpr)\n",
    "\n",
    "# Graficar la curva ROC\n",
    "plt.figure(figsize=(8, 6))\n",
    "plt.plot(fpr, tpr, color='darkorange', lw=2, label='Curva ROC (area = %0.2f)' % roc_auc)\n",
    "plt.plot([0, 1], [0, 1], color='navy', lw=2, linestyle='--')  # Línea aleatoria\n",
    "plt.xlabel('Tasa de Falsos Positivos')\n",
    "plt.ylabel('Tasa de Verdaderos Positivos')\n",
    "plt.title('Curva ROC')\n",
    "plt.legend(loc='lower right')\n",
    "plt.show()\n",
    "\n",
    "# Mostrar AUC\n",
    "print(f\"AUC: {roc_auc}\")\n"
   ]
  }
 ],
 "metadata": {
  "kernelspec": {
   "display_name": "nlp-env",
   "language": "python",
   "name": "python3"
  },
  "language_info": {
   "codemirror_mode": {
    "name": "ipython",
    "version": 3
   },
   "file_extension": ".py",
   "mimetype": "text/x-python",
   "name": "python",
   "nbconvert_exporter": "python",
   "pygments_lexer": "ipython3",
   "version": "3.11.13"
  }
 },
 "nbformat": 4,
 "nbformat_minor": 5
}
